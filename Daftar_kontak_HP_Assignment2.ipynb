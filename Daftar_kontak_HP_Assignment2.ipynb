{
 "cells": [
  {
   "cell_type": "markdown",
   "metadata": {},
   "source": [
    "# Assignment 2"
   ]
  },
  {
   "cell_type": "markdown",
   "metadata": {},
   "source": [
    "### MEMBUAT DAFTAR KONTAK HP"
   ]
  },
  {
   "cell_type": "code",
   "execution_count": 2,
   "metadata": {},
   "outputs": [
    {
     "name": "stdout",
     "output_type": "stream",
     "text": [
      "=== Selamat Datang di Aplikasi penyimpan No HP \n",
      "\n",
      " Terdapat menu sebagai berikut : \n",
      "\t 1. Tampilkan semua kontak\n",
      "\t 2. Masukkan kontak baru \n",
      "\t 3. Keluar\n"
     ]
    },
    {
     "name": "stdin",
     "output_type": "stream",
     "text": [
      "Silahkan memilih menu sesuai nomor diatas :  1\n"
     ]
    },
    {
     "name": "stdout",
     "output_type": "stream",
     "text": [
      "Daftar kontak :\n",
      "Nama  :  Farhan\n",
      "No HP :  08123456789\n",
      "Nama  :  Joko\n",
      "No HP :  08987654321\n",
      "\n",
      " Terdapat menu sebagai berikut : \n",
      "\t 1. Tampilkan semua kontak\n",
      "\t 2. Masukkan kontak baru \n",
      "\t 3. Keluar\n"
     ]
    },
    {
     "name": "stdin",
     "output_type": "stream",
     "text": [
      "Silahkan memilih menu sesuai nomor diatas :  2\n"
     ]
    },
    {
     "name": "stdout",
     "output_type": "stream",
     "text": [
      "Masukkan kontak baru :\n"
     ]
    },
    {
     "name": "stdin",
     "output_type": "stream",
     "text": [
      "\t Nama : Desi\n",
      "\t No Hp : 08231989445\n"
     ]
    },
    {
     "name": "stdout",
     "output_type": "stream",
     "text": [
      "\t Nomor anda sudah tercatat\n",
      "\n",
      " Terdapat menu sebagai berikut : \n",
      "\t 1. Tampilkan semua kontak\n",
      "\t 2. Masukkan kontak baru \n",
      "\t 3. Keluar\n"
     ]
    },
    {
     "name": "stdin",
     "output_type": "stream",
     "text": [
      "Silahkan memilih menu sesuai nomor diatas :  1\n"
     ]
    },
    {
     "name": "stdout",
     "output_type": "stream",
     "text": [
      "Daftar kontak :\n",
      "Nama  :  Farhan\n",
      "No HP :  08123456789\n",
      "Nama  :  Joko\n",
      "No HP :  08987654321\n",
      "Nama  :  Desi\n",
      "No HP :  08231989445\n",
      "\n",
      " Terdapat menu sebagai berikut : \n",
      "\t 1. Tampilkan semua kontak\n",
      "\t 2. Masukkan kontak baru \n",
      "\t 3. Keluar\n"
     ]
    },
    {
     "name": "stdin",
     "output_type": "stream",
     "text": [
      "Silahkan memilih menu sesuai nomor diatas :  2\n"
     ]
    },
    {
     "name": "stdout",
     "output_type": "stream",
     "text": [
      "Masukkan kontak baru :\n"
     ]
    },
    {
     "name": "stdin",
     "output_type": "stream",
     "text": [
      "\t Nama : Dewita\n",
      "\t No Hp : 08977765445\n"
     ]
    },
    {
     "name": "stdout",
     "output_type": "stream",
     "text": [
      "\t Nomor anda sudah tercatat\n",
      "\n",
      " Terdapat menu sebagai berikut : \n",
      "\t 1. Tampilkan semua kontak\n",
      "\t 2. Masukkan kontak baru \n",
      "\t 3. Keluar\n"
     ]
    },
    {
     "name": "stdin",
     "output_type": "stream",
     "text": [
      "Silahkan memilih menu sesuai nomor diatas :  5\n"
     ]
    },
    {
     "name": "stdout",
     "output_type": "stream",
     "text": [
      "\n",
      "Maaf, pilihan anda tidak valid\n",
      "================================\n",
      "\n",
      " Terdapat menu sebagai berikut : \n",
      "\t 1. Tampilkan semua kontak\n",
      "\t 2. Masukkan kontak baru \n",
      "\t 3. Keluar\n"
     ]
    },
    {
     "name": "stdin",
     "output_type": "stream",
     "text": [
      "Silahkan memilih menu sesuai nomor diatas :  3\n"
     ]
    },
    {
     "name": "stdout",
     "output_type": "stream",
     "text": [
      "Program selesai, sampai jumpa!\n",
      "================================\n"
     ]
    }
   ],
   "source": [
    "# Pilihan Menu\n",
    "def menu():\n",
    "    print(\" Terdapat menu sebagai berikut : \")\n",
    "    print(\"\\t 1. Tampilkan semua kontak\")\n",
    "    print(\"\\t 2. Masukkan kontak baru \")\n",
    "    print(\"\\t 3. Keluar\")\n",
    "    \n",
    "print(\"=== Selamat Datang di Aplikasi penyimpan No HP \")\n",
    "# menyiapkan penyimpanan nama dan no hp\n",
    "nama = ['Farhan','Joko']\n",
    "no_hp = ['08123456789','08987654321']\n",
    "# memanggil pilihan menu\n",
    "while True:\n",
    "    print('')\n",
    "    menu()\n",
    "    pilih = input(\"Silahkan memilih menu sesuai nomor diatas : \")\n",
    "    if pilih == \"1\":\n",
    "        print(\"Daftar kontak :\")\n",
    "        for i in range(len(nama)):\n",
    "            print(\"Nama  : \",nama[i])\n",
    "            print(\"No HP : \",no_hp[i])\n",
    "            print(\"=====================================\")\n",
    "    elif pilih == \"2\":\n",
    "        print(\"Masukkan kontak baru :\")\n",
    "        name = input(\"\\t Nama :\")\n",
    "        phone = input(\"\\t No Hp :\")\n",
    "        nama.append(name)\n",
    "        no_hp.append(phone)\n",
    "        print(\"\\t Nomor anda sudah tercatat\")\n",
    "        print(\"=====================================\")\n",
    "        \n",
    "    elif pilih == \"3\":\n",
    "        print(\"Program selesai, sampai jumpa!\")\n",
    "        print(\"================================\")\n",
    "        break\n",
    "    else:\n",
    "        print(\"\\nMaaf, pilihan anda tidak valid\")\n",
    "        print(\"================================\")\n",
    "        \n",
    "            \n",
    "        \n",
    "    \n"
   ]
  },
  {
   "cell_type": "code",
   "execution_count": null,
   "metadata": {},
   "outputs": [],
   "source": []
  },
  {
   "cell_type": "code",
   "execution_count": null,
   "metadata": {},
   "outputs": [],
   "source": []
  },
  {
   "cell_type": "code",
   "execution_count": null,
   "metadata": {},
   "outputs": [],
   "source": []
  },
  {
   "cell_type": "code",
   "execution_count": null,
   "metadata": {},
   "outputs": [],
   "source": []
  }
 ],
 "metadata": {
  "kernelspec": {
   "display_name": "Python 3",
   "language": "python",
   "name": "python3"
  },
  "language_info": {
   "codemirror_mode": {
    "name": "ipython",
    "version": 3
   },
   "file_extension": ".py",
   "mimetype": "text/x-python",
   "name": "python",
   "nbconvert_exporter": "python",
   "pygments_lexer": "ipython3",
   "version": "3.8.3"
  }
 },
 "nbformat": 4,
 "nbformat_minor": 4
}
