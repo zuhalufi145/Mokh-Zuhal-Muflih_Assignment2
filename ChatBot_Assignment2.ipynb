{
 "cells": [
  {
   "cell_type": "markdown",
   "metadata": {},
   "source": [
    "# Chatbot dan Kalkulator"
   ]
  },
  {
   "cell_type": "code",
   "execution_count": 1,
   "metadata": {},
   "outputs": [
    {
     "name": "stdout",
     "output_type": "stream",
     "text": [
      "Hai, aku AIs, asisten virtual pertamamu \n",
      "Siapa namamu?\n"
     ]
    },
    {
     "name": "stdin",
     "output_type": "stream",
     "text": [
      " Masukkan nama :  seru\n"
     ]
    },
    {
     "name": "stdout",
     "output_type": "stream",
     "text": [
      "\n",
      " Salam kenal seru\n",
      "Apakah ada yang bisa aku bantu?\n",
      "\n",
      "Silahkan pilih bantuan yang bisa aku berikan:\n",
      "1. Membuka kalkulator\n",
      "2. Menemani Curhatmu\n",
      "3. Keluar aplikasi\n"
     ]
    },
    {
     "name": "stdin",
     "output_type": "stream",
     "text": [
      " Masukkan angka yang kamu pilih :  1\n"
     ]
    },
    {
     "name": "stdout",
     "output_type": "stream",
     "text": [
      "\n",
      "Aplikasi Kalkulator sederhana :\n",
      "*****************************************\n",
      "Ayo pilih menu :\n",
      "a.Penjumlahan\n",
      "b.Pengurangan\n",
      "c.Perkalian\n",
      "d.Pembagian\n",
      "e.Kembali\n"
     ]
    },
    {
     "name": "stdin",
     "output_type": "stream",
     "text": [
      " Pilih hurufnya saja yaa : a\n",
      "Masukkan angka ke-1: 4\n",
      "Masukkan angka ke-2: 2\n"
     ]
    },
    {
     "name": "stdout",
     "output_type": "stream",
     "text": [
      "Maka hasil dari 4 + 2 adalah 6\n",
      "\n",
      "Aplikasi Kalkulator sederhana :\n",
      "*****************************************\n",
      "Ayo pilih menu :\n",
      "a.Penjumlahan\n",
      "b.Pengurangan\n",
      "c.Perkalian\n",
      "d.Pembagian\n",
      "e.Kembali\n"
     ]
    },
    {
     "name": "stdin",
     "output_type": "stream",
     "text": [
      " Pilih hurufnya saja yaa : e\n"
     ]
    },
    {
     "name": "stdout",
     "output_type": "stream",
     "text": [
      "\n",
      "Oke, terima kasih sudah menggunakan kalkulator ini\n",
      "==================\n",
      "\n",
      "Silahkan pilih bantuan yang bisa aku berikan:\n",
      "1. Membuka kalkulator\n",
      "2. Menemani Curhatmu\n",
      "3. Keluar aplikasi\n"
     ]
    },
    {
     "name": "stdin",
     "output_type": "stream",
     "text": [
      " Masukkan angka yang kamu pilih :  2\n",
      "Coba ceritakan apa yang kamu rasakan saat ini: saya kalah dalam pertandingan catur kemarin\n",
      "\n",
      "Ceritamu menarik, Coba ceritakan lebih banyak  saya kalah karena saya kurang berlatih\n"
     ]
    },
    {
     "name": "stdout",
     "output_type": "stream",
     "text": [
      "\n",
      "\tHey,kamu tidak seperti yang kamu pikirkan AYO SEMANGAT!!!\n"
     ]
    },
    {
     "name": "stdin",
     "output_type": "stream",
     "text": [
      "\n",
      "Ceritamu menarik, Coba ceritakan lebih banyak  tapi saya yakin besok saya pasti bisa menang\n"
     ]
    },
    {
     "name": "stdout",
     "output_type": "stream",
     "text": [
      "Itu sangat menarik!\n"
     ]
    },
    {
     "name": "stdin",
     "output_type": "stream",
     "text": [
      "\n",
      "Ceritamu menarik, Coba ceritakan lebih banyak  ya sudah aku mengantuk sampai jumpa besok\n"
     ]
    },
    {
     "name": "stdout",
     "output_type": "stream",
     "text": [
      "\n",
      "\tOke, tetap semangat ya! :)\n",
      "=====================\n",
      "\n",
      "Silahkan pilih bantuan yang bisa aku berikan:\n",
      "1. Membuka kalkulator\n",
      "2. Menemani Curhatmu\n",
      "3. Keluar aplikasi\n"
     ]
    },
    {
     "name": "stdin",
     "output_type": "stream",
     "text": [
      " Masukkan angka yang kamu pilih :  3\n"
     ]
    },
    {
     "name": "stdout",
     "output_type": "stream",
     "text": [
      "\n",
      "Oke, sampai ketemu lagiiii\n",
      "=====================\n"
     ]
    }
   ],
   "source": [
    "## Fungsi Menu awal\n",
    "def menu():\n",
    "    print(\"Silahkan pilih bantuan yang bisa aku berikan:\")\n",
    "    print(\"1. Membuka kalkulator\")\n",
    "    print(\"2. Menemani Curhatmu\")\n",
    "    print(\"3. Keluar aplikasi\")\n",
    "    \n",
    "# Fungsi Kalkulator\n",
    "def kalkulator():\n",
    "    while True:\n",
    "        print(\"\\nAplikasi Kalkulator sederhana :\")\n",
    "        print(\"*****************************************\")\n",
    "        print(\"Ayo pilih menu :\")\n",
    "        print(\"a.Penjumlahan\")\n",
    "        print(\"b.Pengurangan\")\n",
    "        print(\"c.Perkalian\")\n",
    "        print(\"d.Pembagian\")\n",
    "        print(\"e.Kembali\")\n",
    "        operasi = input(\" Pilih hurufnya saja yaa :\")\n",
    "        if operasi ==\"a\":\n",
    "            x = int(input(\"Masukkan angka ke-1:\"))\n",
    "            y = int(input(\"Masukkan angka ke-2:\"))\n",
    "            s = x+y\n",
    "            print (\"Maka hasil dari\",x,\"+\",y,\"adalah\",s)\n",
    "        elif operasi ==\"b\":\n",
    "            x = int(input(\"Masukkan angka ke-1:\"))\n",
    "            y = int(input(\"Masukkan angka ke-2:\"))\n",
    "            k = x-y\n",
    "            print(\"Maka hasil dari\",x,\"-\",y,\"adalah\",k)\n",
    "        elif operasi == \"c\":\n",
    "            x = int(input(\"Masukkan angka ke-1:\"))\n",
    "            y = int(input(\"Masukkan angka ke-2\"))\n",
    "            t = x*y\n",
    "            print(\"Maka hasil dari\",x,\"x\",y,\"adalah\",t)\n",
    "        elif operasi == \"d\":\n",
    "            x = int(input(\"Masukkan angka ke-1:\"))\n",
    "            y = int(input(\"Masukkan angka ke-2:\"))\n",
    "            g = x/y\n",
    "            print(\"Maka hasil dari\",x,\":\",y,\"adalah\",g)\n",
    "        elif operasi ==\"e\":\n",
    "            print(\"\\nOke, terima kasih sudah menggunakan kalkulator ini\")\n",
    "            print(\"==================\")\n",
    "            break\n",
    "        else:\n",
    "            print(\"\\nMaaf, pilihan hurufmu tidak ada dalam daftar\")\n",
    "            print(\"==================\")\n",
    "        \n",
    "# Fungsi Chatbot        \n",
    "def chatbot():\n",
    "    input(\"Coba ceritakan apa yang kamu rasakan saat ini:\")\n",
    "    while True:\n",
    "        cerita= input(\"\\nCeritamu menarik, Coba ceritakan lebih banyak :\")\n",
    "        if 'gagal'in cerita or 'kalah' in cerita or 'bodoh' in cerita or 'jelek' in cerita:\n",
    "            print(\"\\n\\tHey,kamu tidak seperti yang kamu pikirkan AYO SEMANGAT!!!\")\n",
    "        elif 'kecewa' in cerita or 'sedih' in cerita or 'putus asa' in cerita:\n",
    "            print(\"\\n\\tApa yang membuat kamu seperti ini? :\")\n",
    "        elif 'senang' in cerita or 'berhasil' in cerita or 'menang' in cerita or 'hadiah' in cerita:\n",
    "            print('Itu sangat menarik! : ')\n",
    "        else:\n",
    "            print('\\n\\tOke, tetap semangat ya!', ':)')\n",
    "            print(\"=====================\")\n",
    "            break\n",
    "# Pengantar \n",
    "print(\"Hai, aku AIs, asisten virtual pertamamu \")\n",
    "print(\"Siapa namamu?\")\n",
    "\n",
    "nama = input(\" Masukkan nama : \")\n",
    "\n",
    "print(\"\\n Salam kenal\",nama)\n",
    "print(\"Apakah ada yang bisa aku bantu?\")\n",
    "\n",
    "# Munculkan menu awal\n",
    "while True:\n",
    "    print('')\n",
    "    menu()\n",
    "    \n",
    "    pilih = input(\" Masukkan angka yang kamu pilih : \")\n",
    "    # Menu Kalkulator\n",
    "    if pilih =='1':\n",
    "        kalkulator()\n",
    "    elif pilih =='2':\n",
    "        chatbot()\n",
    "    elif pilih =='3':\n",
    "        print(\"\\nOke, sampai ketemu lagiiii\")\n",
    "        print(\"=====================\")\n",
    "        break\n",
    "    else:\n",
    "        print(\"\\nMaaf, kamu memasukkan angka yang salah\")\n",
    "        print(\"=====================\")\n",
    "        \n",
    "        \n",
    "        \n",
    "            \n",
    "        \n",
    "            \n",
    "            \n",
    "        \n",
    "    \n",
    "            "
   ]
  },
  {
   "cell_type": "code",
   "execution_count": null,
   "metadata": {},
   "outputs": [],
   "source": []
  },
  {
   "cell_type": "code",
   "execution_count": null,
   "metadata": {},
   "outputs": [],
   "source": []
  },
  {
   "cell_type": "code",
   "execution_count": null,
   "metadata": {},
   "outputs": [],
   "source": []
  },
  {
   "cell_type": "code",
   "execution_count": null,
   "metadata": {},
   "outputs": [],
   "source": []
  },
  {
   "cell_type": "code",
   "execution_count": null,
   "metadata": {},
   "outputs": [],
   "source": []
  },
  {
   "cell_type": "code",
   "execution_count": null,
   "metadata": {},
   "outputs": [],
   "source": []
  }
 ],
 "metadata": {
  "kernelspec": {
   "display_name": "Python 3",
   "language": "python",
   "name": "python3"
  },
  "language_info": {
   "codemirror_mode": {
    "name": "ipython",
    "version": 3
   },
   "file_extension": ".py",
   "mimetype": "text/x-python",
   "name": "python",
   "nbconvert_exporter": "python",
   "pygments_lexer": "ipython3",
   "version": "3.8.3"
  }
 },
 "nbformat": 4,
 "nbformat_minor": 4
}
